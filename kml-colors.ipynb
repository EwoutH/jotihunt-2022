{
 "cells": [
  {
   "cell_type": "code",
   "execution_count": null,
   "id": "initial_id",
   "metadata": {
    "collapsed": true
   },
   "outputs": [],
   "source": [
    "import json\n",
    "import simplekml\n",
    "\n",
    "# Assuming the JSON data is stored in a file called 'data.json'\n",
    "with open(\"C:/Users/Ewout/Downloads/subscriptions.json\") as f:\n",
    "    data = json.load(f)"
   ]
  },
  {
   "cell_type": "code",
   "execution_count": null,
   "outputs": [],
   "source": [
    "kml = simplekml.Kml()"
   ],
   "metadata": {
    "collapsed": false
   },
   "id": "4fad897fc49f1777"
  },
  {
   "cell_type": "code",
   "execution_count": null,
   "outputs": [],
   "source": [
    "color_mapping = {\n",
    "    \"Alpha\": \"ff800080\",  # Purple\n",
    "    \"Bravo\": \"ff00ffff\",  # Yellow\n",
    "    \"Charlie\": \"ff0000ff\",  # Red\n",
    "    \"Delta\": \"ffff0000\",  # Blue\n",
    "    \"Echo\": \"ff000000\",  # Black\n",
    "    \"Foxtrot\": \"ff008000\"  # Green\n",
    "}\n",
    "\n",
    "for group in data['data']:\n",
    "    pnt = kml.newpoint(name=group['name'], coords=[(group['long'], group['lat'])])\n",
    "    area = group['area']\n",
    "    if area in color_mapping:\n",
    "        pnt.style.iconstyle.color = color_mapping[area]"
   ],
   "metadata": {
    "collapsed": false
   },
   "id": "7fa6b2a40c7678a3"
  },
  {
   "cell_type": "code",
   "execution_count": null,
   "outputs": [],
   "source": [
    "kml.save(\"scouting_groups.kml\")"
   ],
   "metadata": {
    "collapsed": false
   },
   "id": "481b1a1b2c3a78e6"
  }
 ],
 "metadata": {
  "kernelspec": {
   "display_name": "Python 3",
   "language": "python",
   "name": "python3"
  },
  "language_info": {
   "codemirror_mode": {
    "name": "ipython",
    "version": 2
   },
   "file_extension": ".py",
   "mimetype": "text/x-python",
   "name": "python",
   "nbconvert_exporter": "python",
   "pygments_lexer": "ipython2",
   "version": "2.7.6"
  }
 },
 "nbformat": 4,
 "nbformat_minor": 5
}
